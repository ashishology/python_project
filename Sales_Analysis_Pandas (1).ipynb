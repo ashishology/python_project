{
  "nbformat": 4,
  "nbformat_minor": 0,
  "metadata": {
    "colab": {
      "name": "Sales_Analysis_Pandas.ipynb",
      "provenance": []
    },
    "kernelspec": {
      "name": "python3",
      "display_name": "Python 3"
    },
    "language_info": {
      "name": "python"
    }
  },
  "cells": [
    {
      "cell_type": "code",
      "source": [
        "from google.colab import drive\n",
        "drive.mount('/content/drive')"
      ],
      "metadata": {
        "id": "VEaZHzuhNPtt"
      },
      "execution_count": null,
      "outputs": []
    },
    {
      "cell_type": "code",
      "metadata": {
        "id": "mzd6UA_BmoA9"
      },
      "source": [
        "import pandas as pd\n",
        "import glob\n",
        "\n",
        "path = r'/content/drive/MyDrive/Sales_Data' # use your path\n",
        "all_files = glob.glob(path + \"/*.csv\")\n",
        "\n",
        "li = []\n",
        "\n",
        "for filename in all_files:\n",
        "  \n",
        "  df = pd.read_csv(filename, index_col=None, header=0)\n",
        "  li.append(df)\n",
        "\n",
        "frame = pd.concat(li, axis=0, ignore_index=True)\n",
        "frame.to_csv(\"all_data.csv\",index=False)"
      ],
      "execution_count": null,
      "outputs": []
    },
    {
      "cell_type": "code",
      "metadata": {
        "colab": {
          "base_uri": "https://localhost:8080/"
        },
        "id": "FxtHoxMVisqs",
        "outputId": "bf7721c4-2e7f-4960-de7e-70282f460e74"
      },
      "source": [
        "all=pd.read_csv(\"/content/all_data.csv\")\n",
        "print(all.columns)"
      ],
      "execution_count": null,
      "outputs": [
        {
          "output_type": "stream",
          "name": "stdout",
          "text": [
            "Index(['Order ID', 'Product', 'Quantity Ordered', 'Price Each', 'Order Date',\n",
            "       'Purchase Address'],\n",
            "      dtype='object')\n"
          ]
        }
      ]
    },
    {
      "cell_type": "markdown",
      "metadata": {
        "id": "zqvejkRcmM4x"
      },
      "source": [
        "clean up the data"
      ]
    },
    {
      "cell_type": "markdown",
      "metadata": {
        "id": "WLfMM5RRmOy_"
      },
      "source": [
        "find NAN rows"
      ]
    },
    {
      "cell_type": "code",
      "metadata": {
        "colab": {
          "base_uri": "https://localhost:8080/",
          "height": 419
        },
        "id": "06aTqvQnmQyc",
        "outputId": "bcc959e4-f2ec-47eb-b620-ddbacdc32d90"
      },
      "source": [
        "import numpy as np\n",
        "mask = False\n",
        "for col in all.columns: \n",
        "    mask = mask | all[col].isnull()\n",
        "dfnulls = all[mask]\n",
        "all=all.dropna(how=\"all\")\n",
        "dfnulls"
      ],
      "execution_count": null,
      "outputs": [
        {
          "output_type": "execute_result",
          "data": {
            "text/html": [
              "<div>\n",
              "<style scoped>\n",
              "    .dataframe tbody tr th:only-of-type {\n",
              "        vertical-align: middle;\n",
              "    }\n",
              "\n",
              "    .dataframe tbody tr th {\n",
              "        vertical-align: top;\n",
              "    }\n",
              "\n",
              "    .dataframe thead th {\n",
              "        text-align: right;\n",
              "    }\n",
              "</style>\n",
              "<table border=\"1\" class=\"dataframe\">\n",
              "  <thead>\n",
              "    <tr style=\"text-align: right;\">\n",
              "      <th></th>\n",
              "      <th>Order ID</th>\n",
              "      <th>Product</th>\n",
              "      <th>Quantity Ordered</th>\n",
              "      <th>Price Each</th>\n",
              "      <th>Order Date</th>\n",
              "      <th>Purchase Address</th>\n",
              "    </tr>\n",
              "  </thead>\n",
              "  <tbody>\n",
              "    <tr>\n",
              "      <th>199</th>\n",
              "      <td>NaN</td>\n",
              "      <td>NaN</td>\n",
              "      <td>NaN</td>\n",
              "      <td>NaN</td>\n",
              "      <td>NaN</td>\n",
              "      <td>NaN</td>\n",
              "    </tr>\n",
              "    <tr>\n",
              "      <th>315</th>\n",
              "      <td>NaN</td>\n",
              "      <td>NaN</td>\n",
              "      <td>NaN</td>\n",
              "      <td>NaN</td>\n",
              "      <td>NaN</td>\n",
              "      <td>NaN</td>\n",
              "    </tr>\n",
              "    <tr>\n",
              "      <th>599</th>\n",
              "      <td>NaN</td>\n",
              "      <td>NaN</td>\n",
              "      <td>NaN</td>\n",
              "      <td>NaN</td>\n",
              "      <td>NaN</td>\n",
              "      <td>NaN</td>\n",
              "    </tr>\n",
              "    <tr>\n",
              "      <th>675</th>\n",
              "      <td>NaN</td>\n",
              "      <td>NaN</td>\n",
              "      <td>NaN</td>\n",
              "      <td>NaN</td>\n",
              "      <td>NaN</td>\n",
              "      <td>NaN</td>\n",
              "    </tr>\n",
              "    <tr>\n",
              "      <th>1027</th>\n",
              "      <td>NaN</td>\n",
              "      <td>NaN</td>\n",
              "      <td>NaN</td>\n",
              "      <td>NaN</td>\n",
              "      <td>NaN</td>\n",
              "      <td>NaN</td>\n",
              "    </tr>\n",
              "    <tr>\n",
              "      <th>...</th>\n",
              "      <td>...</td>\n",
              "      <td>...</td>\n",
              "      <td>...</td>\n",
              "      <td>...</td>\n",
              "      <td>...</td>\n",
              "      <td>...</td>\n",
              "    </tr>\n",
              "    <tr>\n",
              "      <th>185723</th>\n",
              "      <td>NaN</td>\n",
              "      <td>NaN</td>\n",
              "      <td>NaN</td>\n",
              "      <td>NaN</td>\n",
              "      <td>NaN</td>\n",
              "      <td>NaN</td>\n",
              "    </tr>\n",
              "    <tr>\n",
              "      <th>185750</th>\n",
              "      <td>NaN</td>\n",
              "      <td>NaN</td>\n",
              "      <td>NaN</td>\n",
              "      <td>NaN</td>\n",
              "      <td>NaN</td>\n",
              "      <td>NaN</td>\n",
              "    </tr>\n",
              "    <tr>\n",
              "      <th>186271</th>\n",
              "      <td>NaN</td>\n",
              "      <td>NaN</td>\n",
              "      <td>NaN</td>\n",
              "      <td>NaN</td>\n",
              "      <td>NaN</td>\n",
              "      <td>NaN</td>\n",
              "    </tr>\n",
              "    <tr>\n",
              "      <th>186758</th>\n",
              "      <td>NaN</td>\n",
              "      <td>NaN</td>\n",
              "      <td>NaN</td>\n",
              "      <td>NaN</td>\n",
              "      <td>NaN</td>\n",
              "      <td>NaN</td>\n",
              "    </tr>\n",
              "    <tr>\n",
              "      <th>186791</th>\n",
              "      <td>NaN</td>\n",
              "      <td>NaN</td>\n",
              "      <td>NaN</td>\n",
              "      <td>NaN</td>\n",
              "      <td>NaN</td>\n",
              "      <td>NaN</td>\n",
              "    </tr>\n",
              "  </tbody>\n",
              "</table>\n",
              "<p>545 rows × 6 columns</p>\n",
              "</div>"
            ],
            "text/plain": [
              "       Order ID Product Quantity Ordered Price Each Order Date Purchase Address\n",
              "199         NaN     NaN              NaN        NaN        NaN              NaN\n",
              "315         NaN     NaN              NaN        NaN        NaN              NaN\n",
              "599         NaN     NaN              NaN        NaN        NaN              NaN\n",
              "675         NaN     NaN              NaN        NaN        NaN              NaN\n",
              "1027        NaN     NaN              NaN        NaN        NaN              NaN\n",
              "...         ...     ...              ...        ...        ...              ...\n",
              "185723      NaN     NaN              NaN        NaN        NaN              NaN\n",
              "185750      NaN     NaN              NaN        NaN        NaN              NaN\n",
              "186271      NaN     NaN              NaN        NaN        NaN              NaN\n",
              "186758      NaN     NaN              NaN        NaN        NaN              NaN\n",
              "186791      NaN     NaN              NaN        NaN        NaN              NaN\n",
              "\n",
              "[545 rows x 6 columns]"
            ]
          },
          "metadata": {
            "tags": []
          },
          "execution_count": 5
        }
      ]
    },
    {
      "cell_type": "markdown",
      "metadata": {
        "id": "f3wmQ_MbpJI7"
      },
      "source": [
        "drop\"or\" and delete it"
      ]
    },
    {
      "cell_type": "code",
      "metadata": {
        "id": "XeC4oxpnphpi"
      },
      "source": [
        "all=all[all[\"Order Date\"].str[0:2]!=\"Or\"]\n"
      ],
      "execution_count": null,
      "outputs": []
    },
    {
      "cell_type": "markdown",
      "metadata": {
        "id": "gyNJZqlDvIVW"
      },
      "source": [
        "converting columns to correct type"
      ]
    },
    {
      "cell_type": "code",
      "metadata": {
        "id": "U9pn8f0DvQ46"
      },
      "source": [
        "all[\"Quantity Ordered\"]=pd.to_numeric(all[\"Quantity Ordered\"])\n",
        "all[\"Price Each\"]=pd.to_numeric(all[\"Price Each\"])\n"
      ],
      "execution_count": null,
      "outputs": []
    },
    {
      "cell_type": "markdown",
      "metadata": {
        "id": "MY3WLgiBklHT"
      },
      "source": [
        "Augmenting additional columns\n"
      ]
    },
    {
      "cell_type": "markdown",
      "metadata": {
        "id": "2TKSAzBRkqru"
      },
      "source": [
        "adding month column"
      ]
    },
    {
      "cell_type": "code",
      "metadata": {
        "id": "2pt8tS3mktyx"
      },
      "source": [
        "all[\"month\"]=all[\"Order Date\"].str[0:2]\n",
        "all[\"month\"]=all[\"month\"].astype('int32')"
      ],
      "execution_count": null,
      "outputs": []
    },
    {
      "cell_type": "markdown",
      "metadata": {
        "id": "DI97gsdUwC2F"
      },
      "source": [
        "adding sales column"
      ]
    },
    {
      "cell_type": "code",
      "metadata": {
        "colab": {
          "base_uri": "https://localhost:8080/",
          "height": 204
        },
        "id": "PB3UzX_owFHP",
        "outputId": "b0f2c81c-cfbb-425c-c6df-0ca6577ba250"
      },
      "source": [
        "all[\"sales\"]=all['Quantity Ordered']*all[\"Price Each\"]\n",
        "all.head()"
      ],
      "execution_count": null,
      "outputs": [
        {
          "output_type": "execute_result",
          "data": {
            "text/html": [
              "<div>\n",
              "<style scoped>\n",
              "    .dataframe tbody tr th:only-of-type {\n",
              "        vertical-align: middle;\n",
              "    }\n",
              "\n",
              "    .dataframe tbody tr th {\n",
              "        vertical-align: top;\n",
              "    }\n",
              "\n",
              "    .dataframe thead th {\n",
              "        text-align: right;\n",
              "    }\n",
              "</style>\n",
              "<table border=\"1\" class=\"dataframe\">\n",
              "  <thead>\n",
              "    <tr style=\"text-align: right;\">\n",
              "      <th></th>\n",
              "      <th>Order ID</th>\n",
              "      <th>Product</th>\n",
              "      <th>Quantity Ordered</th>\n",
              "      <th>Price Each</th>\n",
              "      <th>Order Date</th>\n",
              "      <th>Purchase Address</th>\n",
              "      <th>month</th>\n",
              "      <th>sales</th>\n",
              "    </tr>\n",
              "  </thead>\n",
              "  <tbody>\n",
              "    <tr>\n",
              "      <th>0</th>\n",
              "      <td>222910</td>\n",
              "      <td>Apple Airpods Headphones</td>\n",
              "      <td>1</td>\n",
              "      <td>150.00</td>\n",
              "      <td>07/26/19 16:51</td>\n",
              "      <td>389 South St, Atlanta, GA 30301</td>\n",
              "      <td>7</td>\n",
              "      <td>150.00</td>\n",
              "    </tr>\n",
              "    <tr>\n",
              "      <th>1</th>\n",
              "      <td>222911</td>\n",
              "      <td>Flatscreen TV</td>\n",
              "      <td>1</td>\n",
              "      <td>300.00</td>\n",
              "      <td>07/05/19 08:55</td>\n",
              "      <td>590 4th St, Seattle, WA 98101</td>\n",
              "      <td>7</td>\n",
              "      <td>300.00</td>\n",
              "    </tr>\n",
              "    <tr>\n",
              "      <th>2</th>\n",
              "      <td>222912</td>\n",
              "      <td>AA Batteries (4-pack)</td>\n",
              "      <td>1</td>\n",
              "      <td>3.84</td>\n",
              "      <td>07/29/19 12:41</td>\n",
              "      <td>861 Hill St, Atlanta, GA 30301</td>\n",
              "      <td>7</td>\n",
              "      <td>3.84</td>\n",
              "    </tr>\n",
              "    <tr>\n",
              "      <th>3</th>\n",
              "      <td>222913</td>\n",
              "      <td>AA Batteries (4-pack)</td>\n",
              "      <td>1</td>\n",
              "      <td>3.84</td>\n",
              "      <td>07/28/19 10:15</td>\n",
              "      <td>190 Ridge St, Atlanta, GA 30301</td>\n",
              "      <td>7</td>\n",
              "      <td>3.84</td>\n",
              "    </tr>\n",
              "    <tr>\n",
              "      <th>4</th>\n",
              "      <td>222914</td>\n",
              "      <td>AAA Batteries (4-pack)</td>\n",
              "      <td>5</td>\n",
              "      <td>2.99</td>\n",
              "      <td>07/31/19 02:13</td>\n",
              "      <td>824 Forest St, Seattle, WA 98101</td>\n",
              "      <td>7</td>\n",
              "      <td>14.95</td>\n",
              "    </tr>\n",
              "  </tbody>\n",
              "</table>\n",
              "</div>"
            ],
            "text/plain": [
              "  Order ID                   Product  ...  month   sales\n",
              "0   222910  Apple Airpods Headphones  ...      7  150.00\n",
              "1   222911             Flatscreen TV  ...      7  300.00\n",
              "2   222912     AA Batteries (4-pack)  ...      7    3.84\n",
              "3   222913     AA Batteries (4-pack)  ...      7    3.84\n",
              "4   222914    AAA Batteries (4-pack)  ...      7   14.95\n",
              "\n",
              "[5 rows x 8 columns]"
            ]
          },
          "metadata": {
            "tags": []
          },
          "execution_count": 9
        }
      ]
    },
    {
      "cell_type": "markdown",
      "metadata": {
        "id": "UlT-NhZ9Cqhl"
      },
      "source": [
        "adding city column"
      ]
    },
    {
      "cell_type": "code",
      "metadata": {
        "colab": {
          "base_uri": "https://localhost:8080/",
          "height": 204
        },
        "id": "EKgZMU6xCtjB",
        "outputId": "3b837f08-777e-4bee-855f-7dba6a957835"
      },
      "source": [
        "all['city'] = all['Purchase Address'].str.rsplit(',').str[1] \n",
        "all.head()"
      ],
      "execution_count": null,
      "outputs": [
        {
          "output_type": "execute_result",
          "data": {
            "text/html": [
              "<div>\n",
              "<style scoped>\n",
              "    .dataframe tbody tr th:only-of-type {\n",
              "        vertical-align: middle;\n",
              "    }\n",
              "\n",
              "    .dataframe tbody tr th {\n",
              "        vertical-align: top;\n",
              "    }\n",
              "\n",
              "    .dataframe thead th {\n",
              "        text-align: right;\n",
              "    }\n",
              "</style>\n",
              "<table border=\"1\" class=\"dataframe\">\n",
              "  <thead>\n",
              "    <tr style=\"text-align: right;\">\n",
              "      <th></th>\n",
              "      <th>Order ID</th>\n",
              "      <th>Product</th>\n",
              "      <th>Quantity Ordered</th>\n",
              "      <th>Price Each</th>\n",
              "      <th>Order Date</th>\n",
              "      <th>Purchase Address</th>\n",
              "      <th>month</th>\n",
              "      <th>sales</th>\n",
              "      <th>city</th>\n",
              "      <th>state</th>\n",
              "    </tr>\n",
              "  </thead>\n",
              "  <tbody>\n",
              "    <tr>\n",
              "      <th>0</th>\n",
              "      <td>222910</td>\n",
              "      <td>Apple Airpods Headphones</td>\n",
              "      <td>1</td>\n",
              "      <td>150.00</td>\n",
              "      <td>07/26/19 16:51</td>\n",
              "      <td>389 South St, Atlanta, GA 30301</td>\n",
              "      <td>7</td>\n",
              "      <td>150.00</td>\n",
              "      <td>Atlanta</td>\n",
              "      <td>GA 30301</td>\n",
              "    </tr>\n",
              "    <tr>\n",
              "      <th>1</th>\n",
              "      <td>222911</td>\n",
              "      <td>Flatscreen TV</td>\n",
              "      <td>1</td>\n",
              "      <td>300.00</td>\n",
              "      <td>07/05/19 08:55</td>\n",
              "      <td>590 4th St, Seattle, WA 98101</td>\n",
              "      <td>7</td>\n",
              "      <td>300.00</td>\n",
              "      <td>Seattle</td>\n",
              "      <td>WA 98101</td>\n",
              "    </tr>\n",
              "    <tr>\n",
              "      <th>2</th>\n",
              "      <td>222912</td>\n",
              "      <td>AA Batteries (4-pack)</td>\n",
              "      <td>1</td>\n",
              "      <td>3.84</td>\n",
              "      <td>07/29/19 12:41</td>\n",
              "      <td>861 Hill St, Atlanta, GA 30301</td>\n",
              "      <td>7</td>\n",
              "      <td>3.84</td>\n",
              "      <td>Atlanta</td>\n",
              "      <td>GA 30301</td>\n",
              "    </tr>\n",
              "    <tr>\n",
              "      <th>3</th>\n",
              "      <td>222913</td>\n",
              "      <td>AA Batteries (4-pack)</td>\n",
              "      <td>1</td>\n",
              "      <td>3.84</td>\n",
              "      <td>07/28/19 10:15</td>\n",
              "      <td>190 Ridge St, Atlanta, GA 30301</td>\n",
              "      <td>7</td>\n",
              "      <td>3.84</td>\n",
              "      <td>Atlanta</td>\n",
              "      <td>GA 30301</td>\n",
              "    </tr>\n",
              "    <tr>\n",
              "      <th>4</th>\n",
              "      <td>222914</td>\n",
              "      <td>AAA Batteries (4-pack)</td>\n",
              "      <td>5</td>\n",
              "      <td>2.99</td>\n",
              "      <td>07/31/19 02:13</td>\n",
              "      <td>824 Forest St, Seattle, WA 98101</td>\n",
              "      <td>7</td>\n",
              "      <td>14.95</td>\n",
              "      <td>Seattle</td>\n",
              "      <td>WA 98101</td>\n",
              "    </tr>\n",
              "  </tbody>\n",
              "</table>\n",
              "</div>"
            ],
            "text/plain": [
              "  Order ID                   Product  ...      city      state\n",
              "0   222910  Apple Airpods Headphones  ...   Atlanta   GA 30301\n",
              "1   222911             Flatscreen TV  ...   Seattle   WA 98101\n",
              "2   222912     AA Batteries (4-pack)  ...   Atlanta   GA 30301\n",
              "3   222913     AA Batteries (4-pack)  ...   Atlanta   GA 30301\n",
              "4   222914    AAA Batteries (4-pack)  ...   Seattle   WA 98101\n",
              "\n",
              "[5 rows x 10 columns]"
            ]
          },
          "metadata": {
            "tags": []
          },
          "execution_count": 16
        }
      ]
    },
    {
      "cell_type": "markdown",
      "metadata": {
        "id": "MrRqkyhqakXL"
      },
      "source": [
        "add state column\n"
      ]
    },
    {
      "cell_type": "code",
      "metadata": {
        "colab": {
          "base_uri": "https://localhost:8080/",
          "height": 204
        },
        "id": "RF2ObkvRamAs",
        "outputId": "f02ddd44-5fd2-438b-b0b9-18ba63427ea2"
      },
      "source": [
        "all['state'] = all['Purchase Address'].str.rsplit(',').str[2] \n",
        "all.head()"
      ],
      "execution_count": null,
      "outputs": [
        {
          "output_type": "execute_result",
          "data": {
            "text/html": [
              "<div>\n",
              "<style scoped>\n",
              "    .dataframe tbody tr th:only-of-type {\n",
              "        vertical-align: middle;\n",
              "    }\n",
              "\n",
              "    .dataframe tbody tr th {\n",
              "        vertical-align: top;\n",
              "    }\n",
              "\n",
              "    .dataframe thead th {\n",
              "        text-align: right;\n",
              "    }\n",
              "</style>\n",
              "<table border=\"1\" class=\"dataframe\">\n",
              "  <thead>\n",
              "    <tr style=\"text-align: right;\">\n",
              "      <th></th>\n",
              "      <th>Order ID</th>\n",
              "      <th>Product</th>\n",
              "      <th>Quantity Ordered</th>\n",
              "      <th>Price Each</th>\n",
              "      <th>Order Date</th>\n",
              "      <th>Purchase Address</th>\n",
              "      <th>month</th>\n",
              "      <th>sales</th>\n",
              "      <th>city</th>\n",
              "      <th>state</th>\n",
              "    </tr>\n",
              "  </thead>\n",
              "  <tbody>\n",
              "    <tr>\n",
              "      <th>0</th>\n",
              "      <td>222910</td>\n",
              "      <td>Apple Airpods Headphones</td>\n",
              "      <td>1</td>\n",
              "      <td>150.00</td>\n",
              "      <td>07/26/19 16:51</td>\n",
              "      <td>389 South St, Atlanta, GA 30301</td>\n",
              "      <td>7</td>\n",
              "      <td>150.00</td>\n",
              "      <td>Atlanta</td>\n",
              "      <td>GA 30301</td>\n",
              "    </tr>\n",
              "    <tr>\n",
              "      <th>1</th>\n",
              "      <td>222911</td>\n",
              "      <td>Flatscreen TV</td>\n",
              "      <td>1</td>\n",
              "      <td>300.00</td>\n",
              "      <td>07/05/19 08:55</td>\n",
              "      <td>590 4th St, Seattle, WA 98101</td>\n",
              "      <td>7</td>\n",
              "      <td>300.00</td>\n",
              "      <td>Seattle</td>\n",
              "      <td>WA 98101</td>\n",
              "    </tr>\n",
              "    <tr>\n",
              "      <th>2</th>\n",
              "      <td>222912</td>\n",
              "      <td>AA Batteries (4-pack)</td>\n",
              "      <td>1</td>\n",
              "      <td>3.84</td>\n",
              "      <td>07/29/19 12:41</td>\n",
              "      <td>861 Hill St, Atlanta, GA 30301</td>\n",
              "      <td>7</td>\n",
              "      <td>3.84</td>\n",
              "      <td>Atlanta</td>\n",
              "      <td>GA 30301</td>\n",
              "    </tr>\n",
              "    <tr>\n",
              "      <th>3</th>\n",
              "      <td>222913</td>\n",
              "      <td>AA Batteries (4-pack)</td>\n",
              "      <td>1</td>\n",
              "      <td>3.84</td>\n",
              "      <td>07/28/19 10:15</td>\n",
              "      <td>190 Ridge St, Atlanta, GA 30301</td>\n",
              "      <td>7</td>\n",
              "      <td>3.84</td>\n",
              "      <td>Atlanta</td>\n",
              "      <td>GA 30301</td>\n",
              "    </tr>\n",
              "    <tr>\n",
              "      <th>4</th>\n",
              "      <td>222914</td>\n",
              "      <td>AAA Batteries (4-pack)</td>\n",
              "      <td>5</td>\n",
              "      <td>2.99</td>\n",
              "      <td>07/31/19 02:13</td>\n",
              "      <td>824 Forest St, Seattle, WA 98101</td>\n",
              "      <td>7</td>\n",
              "      <td>14.95</td>\n",
              "      <td>Seattle</td>\n",
              "      <td>WA 98101</td>\n",
              "    </tr>\n",
              "  </tbody>\n",
              "</table>\n",
              "</div>"
            ],
            "text/plain": [
              "  Order ID                   Product  ...      city      state\n",
              "0   222910  Apple Airpods Headphones  ...   Atlanta   GA 30301\n",
              "1   222911             Flatscreen TV  ...   Seattle   WA 98101\n",
              "2   222912     AA Batteries (4-pack)  ...   Atlanta   GA 30301\n",
              "3   222913     AA Batteries (4-pack)  ...   Atlanta   GA 30301\n",
              "4   222914    AAA Batteries (4-pack)  ...   Seattle   WA 98101\n",
              "\n",
              "[5 rows x 10 columns]"
            ]
          },
          "metadata": {
            "tags": []
          },
          "execution_count": 17
        }
      ]
    },
    {
      "cell_type": "markdown",
      "metadata": {
        "id": "yWoo6MaDwqjp"
      },
      "source": [
        "## **what was the best month for sales**"
      ]
    },
    {
      "cell_type": "code",
      "metadata": {
        "colab": {
          "base_uri": "https://localhost:8080/",
          "height": 452
        },
        "id": "R5Dkk0Hrws9n",
        "outputId": "93eb41e5-b31e-40f5-cf5a-2ccee3f41277"
      },
      "source": [
        "results=all.groupby(\"month\").sum()\n",
        "results"
      ],
      "execution_count": null,
      "outputs": [
        {
          "output_type": "execute_result",
          "data": {
            "text/html": [
              "<div>\n",
              "<style scoped>\n",
              "    .dataframe tbody tr th:only-of-type {\n",
              "        vertical-align: middle;\n",
              "    }\n",
              "\n",
              "    .dataframe tbody tr th {\n",
              "        vertical-align: top;\n",
              "    }\n",
              "\n",
              "    .dataframe thead th {\n",
              "        text-align: right;\n",
              "    }\n",
              "</style>\n",
              "<table border=\"1\" class=\"dataframe\">\n",
              "  <thead>\n",
              "    <tr style=\"text-align: right;\">\n",
              "      <th></th>\n",
              "      <th>Quantity Ordered</th>\n",
              "      <th>Price Each</th>\n",
              "      <th>sales</th>\n",
              "    </tr>\n",
              "    <tr>\n",
              "      <th>month</th>\n",
              "      <th></th>\n",
              "      <th></th>\n",
              "      <th></th>\n",
              "    </tr>\n",
              "  </thead>\n",
              "  <tbody>\n",
              "    <tr>\n",
              "      <th>1</th>\n",
              "      <td>10903</td>\n",
              "      <td>1.811768e+06</td>\n",
              "      <td>1.822257e+06</td>\n",
              "    </tr>\n",
              "    <tr>\n",
              "      <th>2</th>\n",
              "      <td>13449</td>\n",
              "      <td>2.188885e+06</td>\n",
              "      <td>2.202022e+06</td>\n",
              "    </tr>\n",
              "    <tr>\n",
              "      <th>3</th>\n",
              "      <td>17005</td>\n",
              "      <td>2.791208e+06</td>\n",
              "      <td>2.807100e+06</td>\n",
              "    </tr>\n",
              "    <tr>\n",
              "      <th>4</th>\n",
              "      <td>20558</td>\n",
              "      <td>3.367671e+06</td>\n",
              "      <td>3.390670e+06</td>\n",
              "    </tr>\n",
              "    <tr>\n",
              "      <th>5</th>\n",
              "      <td>18667</td>\n",
              "      <td>3.135125e+06</td>\n",
              "      <td>3.152607e+06</td>\n",
              "    </tr>\n",
              "    <tr>\n",
              "      <th>6</th>\n",
              "      <td>15253</td>\n",
              "      <td>2.562026e+06</td>\n",
              "      <td>2.577802e+06</td>\n",
              "    </tr>\n",
              "    <tr>\n",
              "      <th>7</th>\n",
              "      <td>16072</td>\n",
              "      <td>2.632540e+06</td>\n",
              "      <td>2.647776e+06</td>\n",
              "    </tr>\n",
              "    <tr>\n",
              "      <th>8</th>\n",
              "      <td>13448</td>\n",
              "      <td>2.230345e+06</td>\n",
              "      <td>2.244468e+06</td>\n",
              "    </tr>\n",
              "    <tr>\n",
              "      <th>9</th>\n",
              "      <td>13109</td>\n",
              "      <td>2.084992e+06</td>\n",
              "      <td>2.097560e+06</td>\n",
              "    </tr>\n",
              "    <tr>\n",
              "      <th>10</th>\n",
              "      <td>22703</td>\n",
              "      <td>3.715555e+06</td>\n",
              "      <td>3.736727e+06</td>\n",
              "    </tr>\n",
              "    <tr>\n",
              "      <th>11</th>\n",
              "      <td>19798</td>\n",
              "      <td>3.180601e+06</td>\n",
              "      <td>3.199603e+06</td>\n",
              "    </tr>\n",
              "    <tr>\n",
              "      <th>12</th>\n",
              "      <td>28114</td>\n",
              "      <td>4.588415e+06</td>\n",
              "      <td>4.613443e+06</td>\n",
              "    </tr>\n",
              "  </tbody>\n",
              "</table>\n",
              "</div>"
            ],
            "text/plain": [
              "       Quantity Ordered    Price Each         sales\n",
              "month                                              \n",
              "1                 10903  1.811768e+06  1.822257e+06\n",
              "2                 13449  2.188885e+06  2.202022e+06\n",
              "3                 17005  2.791208e+06  2.807100e+06\n",
              "4                 20558  3.367671e+06  3.390670e+06\n",
              "5                 18667  3.135125e+06  3.152607e+06\n",
              "6                 15253  2.562026e+06  2.577802e+06\n",
              "7                 16072  2.632540e+06  2.647776e+06\n",
              "8                 13448  2.230345e+06  2.244468e+06\n",
              "9                 13109  2.084992e+06  2.097560e+06\n",
              "10                22703  3.715555e+06  3.736727e+06\n",
              "11                19798  3.180601e+06  3.199603e+06\n",
              "12                28114  4.588415e+06  4.613443e+06"
            ]
          },
          "metadata": {
            "tags": []
          },
          "execution_count": 11
        }
      ]
    },
    {
      "cell_type": "markdown",
      "metadata": {
        "id": "zS5IOB_tzInm"
      },
      "source": [
        "plotting sales on bar graph"
      ]
    },
    {
      "cell_type": "code",
      "metadata": {
        "colab": {
          "base_uri": "https://localhost:8080/",
          "height": 276
        },
        "id": "l6beqZmfzLBY",
        "outputId": "07f7d603-9157-44c6-8dc9-065560980e95"
      },
      "source": [
        "import matplotlib.pyplot as plt\n",
        "months= list(range(1,13))\n",
        "plt.bar(months,results[\"sales\"])\n",
        "plt.show()"
      ],
      "execution_count": null,
      "outputs": [
        {
          "output_type": "display_data",
          "data": {
            "image/png": "[encoded data removed]",
            "text/plain": [
              "<Figure size 432x288 with 1 Axes>"
            ]
          },
          "metadata": {
            "tags": [],
            "needs_background": "light"
          }
        }
      ]
    },
    {
      "cell_type": "markdown",
      "metadata": {
        "id": "xKROMQVYEEq7"
      },
      "source": [
        "## **Highest city by sales**"
      ]
    },
    {
      "cell_type": "code",
      "metadata": {
        "colab": {
          "base_uri": "https://localhost:8080/",
          "height": 359
        },
        "id": "GZErvNx6EHGR",
        "outputId": "7f6635b6-0c72-4337-9490-3a71de59a1ec"
      },
      "source": [
        "cities=all.groupby(\"city\").sum()\n",
        "cities.sort_values(by=['sales'],ascending=False)"
      ],
      "execution_count": null,
      "outputs": [
        {
          "output_type": "execute_result",
          "data": {
            "text/html": [
              "<div>\n",
              "<style scoped>\n",
              "    .dataframe tbody tr th:only-of-type {\n",
              "        vertical-align: middle;\n",
              "    }\n",
              "\n",
              "    .dataframe tbody tr th {\n",
              "        vertical-align: top;\n",
              "    }\n",
              "\n",
              "    .dataframe thead th {\n",
              "        text-align: right;\n",
              "    }\n",
              "</style>\n",
              "<table border=\"1\" class=\"dataframe\">\n",
              "  <thead>\n",
              "    <tr style=\"text-align: right;\">\n",
              "      <th></th>\n",
              "      <th>Quantity Ordered</th>\n",
              "      <th>Price Each</th>\n",
              "      <th>month</th>\n",
              "      <th>sales</th>\n",
              "    </tr>\n",
              "    <tr>\n",
              "      <th>city</th>\n",
              "      <th></th>\n",
              "      <th></th>\n",
              "      <th></th>\n",
              "      <th></th>\n",
              "    </tr>\n",
              "  </thead>\n",
              "  <tbody>\n",
              "    <tr>\n",
              "      <th>San Francisco</th>\n",
              "      <td>50239</td>\n",
              "      <td>8.211462e+06</td>\n",
              "      <td>315520</td>\n",
              "      <td>8.262204e+06</td>\n",
              "    </tr>\n",
              "    <tr>\n",
              "      <th>Los Angeles</th>\n",
              "      <td>33289</td>\n",
              "      <td>5.421435e+06</td>\n",
              "      <td>208325</td>\n",
              "      <td>5.452571e+06</td>\n",
              "    </tr>\n",
              "    <tr>\n",
              "      <th>New York City</th>\n",
              "      <td>27932</td>\n",
              "      <td>4.635371e+06</td>\n",
              "      <td>175741</td>\n",
              "      <td>4.664317e+06</td>\n",
              "    </tr>\n",
              "    <tr>\n",
              "      <th>Boston</th>\n",
              "      <td>22528</td>\n",
              "      <td>3.637410e+06</td>\n",
              "      <td>141112</td>\n",
              "      <td>3.661642e+06</td>\n",
              "    </tr>\n",
              "    <tr>\n",
              "      <th>Atlanta</th>\n",
              "      <td>16602</td>\n",
              "      <td>2.779908e+06</td>\n",
              "      <td>104794</td>\n",
              "      <td>2.795499e+06</td>\n",
              "    </tr>\n",
              "    <tr>\n",
              "      <th>Dallas</th>\n",
              "      <td>16730</td>\n",
              "      <td>2.752628e+06</td>\n",
              "      <td>104620</td>\n",
              "      <td>2.767975e+06</td>\n",
              "    </tr>\n",
              "    <tr>\n",
              "      <th>Seattle</th>\n",
              "      <td>16553</td>\n",
              "      <td>2.733296e+06</td>\n",
              "      <td>104941</td>\n",
              "      <td>2.747755e+06</td>\n",
              "    </tr>\n",
              "    <tr>\n",
              "      <th>Portland</th>\n",
              "      <td>14053</td>\n",
              "      <td>2.307747e+06</td>\n",
              "      <td>87765</td>\n",
              "      <td>2.320491e+06</td>\n",
              "    </tr>\n",
              "    <tr>\n",
              "      <th>Austin</th>\n",
              "      <td>11153</td>\n",
              "      <td>1.809874e+06</td>\n",
              "      <td>69829</td>\n",
              "      <td>1.819582e+06</td>\n",
              "    </tr>\n",
              "  </tbody>\n",
              "</table>\n",
              "</div>"
            ],
            "text/plain": [
              "                Quantity Ordered    Price Each   month         sales\n",
              "city                                                                \n",
              " San Francisco             50239  8.211462e+06  315520  8.262204e+06\n",
              " Los Angeles               33289  5.421435e+06  208325  5.452571e+06\n",
              " New York City             27932  4.635371e+06  175741  4.664317e+06\n",
              " Boston                    22528  3.637410e+06  141112  3.661642e+06\n",
              " Atlanta                   16602  2.779908e+06  104794  2.795499e+06\n",
              " Dallas                    16730  2.752628e+06  104620  2.767975e+06\n",
              " Seattle                   16553  2.733296e+06  104941  2.747755e+06\n",
              " Portland                  14053  2.307747e+06   87765  2.320491e+06\n",
              " Austin                    11153  1.809874e+06   69829  1.819582e+06"
            ]
          },
          "metadata": {
            "tags": []
          },
          "execution_count": 13
        }
      ]
    },
    {
      "cell_type": "code",
      "metadata": {
        "colab": {
          "base_uri": "https://localhost:8080/",
          "height": 231
        },
        "id": "uugyA-Rnbl4f",
        "outputId": "334d4cc4-0268-4e05-cf9e-aa5985aa6f32"
      },
      "source": [
        "import matplotlib.pyplot as plt\n",
        "citi= all[\"city\"].unique()\n",
        "plt.plot(citi,cities[\"sales\"])\n",
        "plt.xticks(citi)\n",
        "\n",
        "plt.show()"
      ],
      "execution_count": null,
      "outputs": [
        {
          "output_type": "error",
          "ename": "IndexError",
          "evalue": "ignored",
          "traceback": [
            "\u001b[0;31m---------------------------------------------------------------------------\u001b[0m",
            "\u001b[0;31mIndexError\u001b[0m                                Traceback (most recent call last)",
            "\u001b[0;32m<ipython-input-29-26ee802aae1b>\u001b[0m in \u001b[0;36m<module>\u001b[0;34m()\u001b[0m\n\u001b[1;32m      1\u001b[0m \u001b[0;32mimport\u001b[0m \u001b[0mmatplotlib\u001b[0m\u001b[0;34m.\u001b[0m\u001b[0mpyplot\u001b[0m \u001b[0;32mas\u001b[0m \u001b[0mplt\u001b[0m\u001b[0;34m\u001b[0m\u001b[0;34m\u001b[0m\u001b[0m\n\u001b[1;32m      2\u001b[0m \u001b[0mciti\u001b[0m\u001b[0;34m=\u001b[0m \u001b[0mall\u001b[0m\u001b[0;34m[\u001b[0m\u001b[0;34m\"city\"\u001b[0m\u001b[0;34m]\u001b[0m\u001b[0;34m.\u001b[0m\u001b[0munique\u001b[0m\u001b[0;34m(\u001b[0m\u001b[0;34m)\u001b[0m\u001b[0;34m\u001b[0m\u001b[0;34m\u001b[0m\u001b[0m\n\u001b[0;32m----> 3\u001b[0;31m \u001b[0mplt\u001b[0m\u001b[0;34m.\u001b[0m\u001b[0mplot\u001b[0m\u001b[0;34m(\u001b[0m\u001b[0mciti\u001b[0m\u001b[0;34m,\u001b[0m\u001b[0mcities\u001b[0m\u001b[0;34m[\u001b[0m\u001b[0;34m\"sales\"\u001b[0m\u001b[0;34m]\u001b[0m\u001b[0;34m)\u001b[0m\u001b[0;34m\u001b[0m\u001b[0;34m\u001b[0m\u001b[0m\n\u001b[0m\u001b[1;32m      4\u001b[0m \u001b[0mplt\u001b[0m\u001b[0;34m.\u001b[0m\u001b[0mxticks\u001b[0m\u001b[0;34m(\u001b[0m\u001b[0mciti\u001b[0m\u001b[0;34m)\u001b[0m\u001b[0;34m\u001b[0m\u001b[0;34m\u001b[0m\u001b[0m\n\u001b[1;32m      5\u001b[0m \u001b[0;34m\u001b[0m\u001b[0m\n",
            "\u001b[0;31mIndexError\u001b[0m: only integers, slices (`:`), ellipsis (`...`), numpy.newaxis (`None`) and integer or boolean arrays are valid indices"
          ]
        }
      ]
    },
    {
      "cell_type": "code",
      "metadata": {
        "id": "vNG6bA4vf66j"
      },
      "source": [
        ""
      ],
      "execution_count": null,
      "outputs": []
    },
    {
      "cell_type": "markdown",
      "metadata": {
        "id": "eIh07cBMeSGQ"
      },
      "source": [
        "## **what time should we display advertisement to maximise likelyhood of customer buying product**"
      ]
    },
    {
      "cell_type": "code",
      "metadata": {
        "colab": {
          "base_uri": "https://localhost:8080/",
          "height": 204
        },
        "id": "TBCBiHdbeaOF",
        "outputId": "f2bbd9b7-70a4-41e7-c07c-44b969b6aa91"
      },
      "source": [
        "all[\"Order Date\"]=pd.to_datetime(all[\"Order Date\"])\n",
        "all[\"hour\"]=all[\"Order Date\"].dt.hour\n",
        "all[\"minute\"]=all[\"Order Date\"].dt.minute\n",
        "all.head()"
      ],
      "execution_count": null,
      "outputs": [
        {
          "output_type": "execute_result",
          "data": {
            "text/html": [
              "<div>\n",
              "<style scoped>\n",
              "    .dataframe tbody tr th:only-of-type {\n",
              "        vertical-align: middle;\n",
              "    }\n",
              "\n",
              "    .dataframe tbody tr th {\n",
              "        vertical-align: top;\n",
              "    }\n",
              "\n",
              "    .dataframe thead th {\n",
              "        text-align: right;\n",
              "    }\n",
              "</style>\n",
              "<table border=\"1\" class=\"dataframe\">\n",
              "  <thead>\n",
              "    <tr style=\"text-align: right;\">\n",
              "      <th></th>\n",
              "      <th>Order ID</th>\n",
              "      <th>Product</th>\n",
              "      <th>Quantity Ordered</th>\n",
              "      <th>Price Each</th>\n",
              "      <th>Order Date</th>\n",
              "      <th>Purchase Address</th>\n",
              "      <th>month</th>\n",
              "      <th>sales</th>\n",
              "      <th>city</th>\n",
              "      <th>state</th>\n",
              "      <th>hour</th>\n",
              "      <th>minute</th>\n",
              "    </tr>\n",
              "  </thead>\n",
              "  <tbody>\n",
              "    <tr>\n",
              "      <th>0</th>\n",
              "      <td>222910</td>\n",
              "      <td>Apple Airpods Headphones</td>\n",
              "      <td>1</td>\n",
              "      <td>150.00</td>\n",
              "      <td>2019-07-26 16:51:00</td>\n",
              "      <td>389 South St, Atlanta, GA 30301</td>\n",
              "      <td>7</td>\n",
              "      <td>150.00</td>\n",
              "      <td>Atlanta</td>\n",
              "      <td>GA 30301</td>\n",
              "      <td>16</td>\n",
              "      <td>51</td>\n",
              "    </tr>\n",
              "    <tr>\n",
              "      <th>1</th>\n",
              "      <td>222911</td>\n",
              "      <td>Flatscreen TV</td>\n",
              "      <td>1</td>\n",
              "      <td>300.00</td>\n",
              "      <td>2019-07-05 08:55:00</td>\n",
              "      <td>590 4th St, Seattle, WA 98101</td>\n",
              "      <td>7</td>\n",
              "      <td>300.00</td>\n",
              "      <td>Seattle</td>\n",
              "      <td>WA 98101</td>\n",
              "      <td>8</td>\n",
              "      <td>55</td>\n",
              "    </tr>\n",
              "    <tr>\n",
              "      <th>2</th>\n",
              "      <td>222912</td>\n",
              "      <td>AA Batteries (4-pack)</td>\n",
              "      <td>1</td>\n",
              "      <td>3.84</td>\n",
              "      <td>2019-07-29 12:41:00</td>\n",
              "      <td>861 Hill St, Atlanta, GA 30301</td>\n",
              "      <td>7</td>\n",
              "      <td>3.84</td>\n",
              "      <td>Atlanta</td>\n",
              "      <td>GA 30301</td>\n",
              "      <td>12</td>\n",
              "      <td>41</td>\n",
              "    </tr>\n",
              "    <tr>\n",
              "      <th>3</th>\n",
              "      <td>222913</td>\n",
              "      <td>AA Batteries (4-pack)</td>\n",
              "      <td>1</td>\n",
              "      <td>3.84</td>\n",
              "      <td>2019-07-28 10:15:00</td>\n",
              "      <td>190 Ridge St, Atlanta, GA 30301</td>\n",
              "      <td>7</td>\n",
              "      <td>3.84</td>\n",
              "      <td>Atlanta</td>\n",
              "      <td>GA 30301</td>\n",
              "      <td>10</td>\n",
              "      <td>15</td>\n",
              "    </tr>\n",
              "    <tr>\n",
              "      <th>4</th>\n",
              "      <td>222914</td>\n",
              "      <td>AAA Batteries (4-pack)</td>\n",
              "      <td>5</td>\n",
              "      <td>2.99</td>\n",
              "      <td>2019-07-31 02:13:00</td>\n",
              "      <td>824 Forest St, Seattle, WA 98101</td>\n",
              "      <td>7</td>\n",
              "      <td>14.95</td>\n",
              "      <td>Seattle</td>\n",
              "      <td>WA 98101</td>\n",
              "      <td>2</td>\n",
              "      <td>13</td>\n",
              "    </tr>\n",
              "  </tbody>\n",
              "</table>\n",
              "</div>"
            ],
            "text/plain": [
              "  Order ID                   Product  Quantity Ordered  ...      state hour minute\n",
              "0   222910  Apple Airpods Headphones                 1  ...   GA 30301   16     51\n",
              "1   222911             Flatscreen TV                 1  ...   WA 98101    8     55\n",
              "2   222912     AA Batteries (4-pack)                 1  ...   GA 30301   12     41\n",
              "3   222913     AA Batteries (4-pack)                 1  ...   GA 30301   10     15\n",
              "4   222914    AAA Batteries (4-pack)                 5  ...   WA 98101    2     13\n",
              "\n",
              "[5 rows x 12 columns]"
            ]
          },
          "metadata": {
            "tags": []
          },
          "execution_count": 28
        }
      ]
    },
    {
      "cell_type": "code",
      "metadata": {
        "colab": {
          "base_uri": "https://localhost:8080/",
          "height": 824
        },
        "id": "z5COnI08f8YX",
        "outputId": "c2645026-2b2c-48a7-88bc-9409d3b6dfed"
      },
      "source": [
        "hours=all.groupby(\"hour\").count()\n",
        "hours.sort_values(by=['sales'],ascending=False)"
      ],
      "execution_count": null,
      "outputs": [
        {
          "output_type": "execute_result",
          "data": {
            "text/html": [
              "<div>\n",
              "<style scoped>\n",
              "    .dataframe tbody tr th:only-of-type {\n",
              "        vertical-align: middle;\n",
              "    }\n",
              "\n",
              "    .dataframe tbody tr th {\n",
              "        vertical-align: top;\n",
              "    }\n",
              "\n",
              "    .dataframe thead th {\n",
              "        text-align: right;\n",
              "    }\n",
              "</style>\n",
              "<table border=\"1\" class=\"dataframe\">\n",
              "  <thead>\n",
              "    <tr style=\"text-align: right;\">\n",
              "      <th></th>\n",
              "      <th>Order ID</th>\n",
              "      <th>Product</th>\n",
              "      <th>Quantity Ordered</th>\n",
              "      <th>Price Each</th>\n",
              "      <th>Order Date</th>\n",
              "      <th>Purchase Address</th>\n",
              "      <th>month</th>\n",
              "      <th>sales</th>\n",
              "      <th>city</th>\n",
              "      <th>state</th>\n",
              "      <th>minute</th>\n",
              "    </tr>\n",
              "    <tr>\n",
              "      <th>hour</th>\n",
              "      <th></th>\n",
              "      <th></th>\n",
              "      <th></th>\n",
              "      <th></th>\n",
              "      <th></th>\n",
              "      <th></th>\n",
              "      <th></th>\n",
              "      <th></th>\n",
              "      <th></th>\n",
              "      <th></th>\n",
              "      <th></th>\n",
              "    </tr>\n",
              "  </thead>\n",
              "  <tbody>\n",
              "    <tr>\n",
              "      <th>19</th>\n",
              "      <td>12905</td>\n",
              "      <td>12905</td>\n",
              "      <td>12905</td>\n",
              "      <td>12905</td>\n",
              "      <td>12905</td>\n",
              "      <td>12905</td>\n",
              "      <td>12905</td>\n",
              "      <td>12905</td>\n",
              "      <td>12905</td>\n",
              "      <td>12905</td>\n",
              "      <td>12905</td>\n",
              "    </tr>\n",
              "    <tr>\n",
              "      <th>12</th>\n",
              "      <td>12587</td>\n",
              "      <td>12587</td>\n",
              "      <td>12587</td>\n",
              "      <td>12587</td>\n",
              "      <td>12587</td>\n",
              "      <td>12587</td>\n",
              "      <td>12587</td>\n",
              "      <td>12587</td>\n",
              "      <td>12587</td>\n",
              "      <td>12587</td>\n",
              "      <td>12587</td>\n",
              "    </tr>\n",
              "    <tr>\n",
              "      <th>11</th>\n",
              "      <td>12411</td>\n",
              "      <td>12411</td>\n",
              "      <td>12411</td>\n",
              "      <td>12411</td>\n",
              "      <td>12411</td>\n",
              "      <td>12411</td>\n",
              "      <td>12411</td>\n",
              "      <td>12411</td>\n",
              "      <td>12411</td>\n",
              "      <td>12411</td>\n",
              "      <td>12411</td>\n",
              "    </tr>\n",
              "    <tr>\n",
              "      <th>18</th>\n",
              "      <td>12280</td>\n",
              "      <td>12280</td>\n",
              "      <td>12280</td>\n",
              "      <td>12280</td>\n",
              "      <td>12280</td>\n",
              "      <td>12280</td>\n",
              "      <td>12280</td>\n",
              "      <td>12280</td>\n",
              "      <td>12280</td>\n",
              "      <td>12280</td>\n",
              "      <td>12280</td>\n",
              "    </tr>\n",
              "    <tr>\n",
              "      <th>20</th>\n",
              "      <td>12228</td>\n",
              "      <td>12228</td>\n",
              "      <td>12228</td>\n",
              "      <td>12228</td>\n",
              "      <td>12228</td>\n",
              "      <td>12228</td>\n",
              "      <td>12228</td>\n",
              "      <td>12228</td>\n",
              "      <td>12228</td>\n",
              "      <td>12228</td>\n",
              "      <td>12228</td>\n",
              "    </tr>\n",
              "    <tr>\n",
              "      <th>13</th>\n",
              "      <td>12129</td>\n",
              "      <td>12129</td>\n",
              "      <td>12129</td>\n",
              "      <td>12129</td>\n",
              "      <td>12129</td>\n",
              "      <td>12129</td>\n",
              "      <td>12129</td>\n",
              "      <td>12129</td>\n",
              "      <td>12129</td>\n",
              "      <td>12129</td>\n",
              "      <td>12129</td>\n",
              "    </tr>\n",
              "    <tr>\n",
              "      <th>14</th>\n",
              "      <td>10984</td>\n",
              "      <td>10984</td>\n",
              "      <td>10984</td>\n",
              "      <td>10984</td>\n",
              "      <td>10984</td>\n",
              "      <td>10984</td>\n",
              "      <td>10984</td>\n",
              "      <td>10984</td>\n",
              "      <td>10984</td>\n",
              "      <td>10984</td>\n",
              "      <td>10984</td>\n",
              "    </tr>\n",
              "    <tr>\n",
              "      <th>10</th>\n",
              "      <td>10944</td>\n",
              "      <td>10944</td>\n",
              "      <td>10944</td>\n",
              "      <td>10944</td>\n",
              "      <td>10944</td>\n",
              "      <td>10944</td>\n",
              "      <td>10944</td>\n",
              "      <td>10944</td>\n",
              "      <td>10944</td>\n",
              "      <td>10944</td>\n",
              "      <td>10944</td>\n",
              "    </tr>\n",
              "    <tr>\n",
              "      <th>21</th>\n",
              "      <td>10921</td>\n",
              "      <td>10921</td>\n",
              "      <td>10921</td>\n",
              "      <td>10921</td>\n",
              "      <td>10921</td>\n",
              "      <td>10921</td>\n",
              "      <td>10921</td>\n",
              "      <td>10921</td>\n",
              "      <td>10921</td>\n",
              "      <td>10921</td>\n",
              "      <td>10921</td>\n",
              "    </tr>\n",
              "    <tr>\n",
              "      <th>17</th>\n",
              "      <td>10899</td>\n",
              "      <td>10899</td>\n",
              "      <td>10899</td>\n",
              "      <td>10899</td>\n",
              "      <td>10899</td>\n",
              "      <td>10899</td>\n",
              "      <td>10899</td>\n",
              "      <td>10899</td>\n",
              "      <td>10899</td>\n",
              "      <td>10899</td>\n",
              "      <td>10899</td>\n",
              "    </tr>\n",
              "    <tr>\n",
              "      <th>16</th>\n",
              "      <td>10384</td>\n",
              "      <td>10384</td>\n",
              "      <td>10384</td>\n",
              "      <td>10384</td>\n",
              "      <td>10384</td>\n",
              "      <td>10384</td>\n",
              "      <td>10384</td>\n",
              "      <td>10384</td>\n",
              "      <td>10384</td>\n",
              "      <td>10384</td>\n",
              "      <td>10384</td>\n",
              "    </tr>\n",
              "    <tr>\n",
              "      <th>15</th>\n",
              "      <td>10175</td>\n",
              "      <td>10175</td>\n",
              "      <td>10175</td>\n",
              "      <td>10175</td>\n",
              "      <td>10175</td>\n",
              "      <td>10175</td>\n",
              "      <td>10175</td>\n",
              "      <td>10175</td>\n",
              "      <td>10175</td>\n",
              "      <td>10175</td>\n",
              "      <td>10175</td>\n",
              "    </tr>\n",
              "    <tr>\n",
              "      <th>22</th>\n",
              "      <td>8822</td>\n",
              "      <td>8822</td>\n",
              "      <td>8822</td>\n",
              "      <td>8822</td>\n",
              "      <td>8822</td>\n",
              "      <td>8822</td>\n",
              "      <td>8822</td>\n",
              "      <td>8822</td>\n",
              "      <td>8822</td>\n",
              "      <td>8822</td>\n",
              "      <td>8822</td>\n",
              "    </tr>\n",
              "    <tr>\n",
              "      <th>9</th>\n",
              "      <td>8748</td>\n",
              "      <td>8748</td>\n",
              "      <td>8748</td>\n",
              "      <td>8748</td>\n",
              "      <td>8748</td>\n",
              "      <td>8748</td>\n",
              "      <td>8748</td>\n",
              "      <td>8748</td>\n",
              "      <td>8748</td>\n",
              "      <td>8748</td>\n",
              "      <td>8748</td>\n",
              "    </tr>\n",
              "    <tr>\n",
              "      <th>23</th>\n",
              "      <td>6275</td>\n",
              "      <td>6275</td>\n",
              "      <td>6275</td>\n",
              "      <td>6275</td>\n",
              "      <td>6275</td>\n",
              "      <td>6275</td>\n",
              "      <td>6275</td>\n",
              "      <td>6275</td>\n",
              "      <td>6275</td>\n",
              "      <td>6275</td>\n",
              "      <td>6275</td>\n",
              "    </tr>\n",
              "    <tr>\n",
              "      <th>8</th>\n",
              "      <td>6256</td>\n",
              "      <td>6256</td>\n",
              "      <td>6256</td>\n",
              "      <td>6256</td>\n",
              "      <td>6256</td>\n",
              "      <td>6256</td>\n",
              "      <td>6256</td>\n",
              "      <td>6256</td>\n",
              "      <td>6256</td>\n",
              "      <td>6256</td>\n",
              "      <td>6256</td>\n",
              "    </tr>\n",
              "    <tr>\n",
              "      <th>7</th>\n",
              "      <td>4011</td>\n",
              "      <td>4011</td>\n",
              "      <td>4011</td>\n",
              "      <td>4011</td>\n",
              "      <td>4011</td>\n",
              "      <td>4011</td>\n",
              "      <td>4011</td>\n",
              "      <td>4011</td>\n",
              "      <td>4011</td>\n",
              "      <td>4011</td>\n",
              "      <td>4011</td>\n",
              "    </tr>\n",
              "    <tr>\n",
              "      <th>0</th>\n",
              "      <td>3910</td>\n",
              "      <td>3910</td>\n",
              "      <td>3910</td>\n",
              "      <td>3910</td>\n",
              "      <td>3910</td>\n",
              "      <td>3910</td>\n",
              "      <td>3910</td>\n",
              "      <td>3910</td>\n",
              "      <td>3910</td>\n",
              "      <td>3910</td>\n",
              "      <td>3910</td>\n",
              "    </tr>\n",
              "    <tr>\n",
              "      <th>6</th>\n",
              "      <td>2482</td>\n",
              "      <td>2482</td>\n",
              "      <td>2482</td>\n",
              "      <td>2482</td>\n",
              "      <td>2482</td>\n",
              "      <td>2482</td>\n",
              "      <td>2482</td>\n",
              "      <td>2482</td>\n",
              "      <td>2482</td>\n",
              "      <td>2482</td>\n",
              "      <td>2482</td>\n",
              "    </tr>\n",
              "    <tr>\n",
              "      <th>1</th>\n",
              "      <td>2350</td>\n",
              "      <td>2350</td>\n",
              "      <td>2350</td>\n",
              "      <td>2350</td>\n",
              "      <td>2350</td>\n",
              "      <td>2350</td>\n",
              "      <td>2350</td>\n",
              "      <td>2350</td>\n",
              "      <td>2350</td>\n",
              "      <td>2350</td>\n",
              "      <td>2350</td>\n",
              "    </tr>\n",
              "    <tr>\n",
              "      <th>5</th>\n",
              "      <td>1321</td>\n",
              "      <td>1321</td>\n",
              "      <td>1321</td>\n",
              "      <td>1321</td>\n",
              "      <td>1321</td>\n",
              "      <td>1321</td>\n",
              "      <td>1321</td>\n",
              "      <td>1321</td>\n",
              "      <td>1321</td>\n",
              "      <td>1321</td>\n",
              "      <td>1321</td>\n",
              "    </tr>\n",
              "    <tr>\n",
              "      <th>2</th>\n",
              "      <td>1243</td>\n",
              "      <td>1243</td>\n",
              "      <td>1243</td>\n",
              "      <td>1243</td>\n",
              "      <td>1243</td>\n",
              "      <td>1243</td>\n",
              "      <td>1243</td>\n",
              "      <td>1243</td>\n",
              "      <td>1243</td>\n",
              "      <td>1243</td>\n",
              "      <td>1243</td>\n",
              "    </tr>\n",
              "    <tr>\n",
              "      <th>4</th>\n",
              "      <td>854</td>\n",
              "      <td>854</td>\n",
              "      <td>854</td>\n",
              "      <td>854</td>\n",
              "      <td>854</td>\n",
              "      <td>854</td>\n",
              "      <td>854</td>\n",
              "      <td>854</td>\n",
              "      <td>854</td>\n",
              "      <td>854</td>\n",
              "      <td>854</td>\n",
              "    </tr>\n",
              "    <tr>\n",
              "      <th>3</th>\n",
              "      <td>831</td>\n",
              "      <td>831</td>\n",
              "      <td>831</td>\n",
              "      <td>831</td>\n",
              "      <td>831</td>\n",
              "      <td>831</td>\n",
              "      <td>831</td>\n",
              "      <td>831</td>\n",
              "      <td>831</td>\n",
              "      <td>831</td>\n",
              "      <td>831</td>\n",
              "    </tr>\n",
              "  </tbody>\n",
              "</table>\n",
              "</div>"
            ],
            "text/plain": [
              "      Order ID  Product  Quantity Ordered  ...   city  state  minute\n",
              "hour                                       ...                      \n",
              "19       12905    12905             12905  ...  12905  12905   12905\n",
              "12       12587    12587             12587  ...  12587  12587   12587\n",
              "11       12411    12411             12411  ...  12411  12411   12411\n",
              "18       12280    12280             12280  ...  12280  12280   12280\n",
              "20       12228    12228             12228  ...  12228  12228   12228\n",
              "13       12129    12129             12129  ...  12129  12129   12129\n",
              "14       10984    10984             10984  ...  10984  10984   10984\n",
              "10       10944    10944             10944  ...  10944  10944   10944\n",
              "21       10921    10921             10921  ...  10921  10921   10921\n",
              "17       10899    10899             10899  ...  10899  10899   10899\n",
              "16       10384    10384             10384  ...  10384  10384   10384\n",
              "15       10175    10175             10175  ...  10175  10175   10175\n",
              "22        8822     8822              8822  ...   8822   8822    8822\n",
              "9         8748     8748              8748  ...   8748   8748    8748\n",
              "23        6275     6275              6275  ...   6275   6275    6275\n",
              "8         6256     6256              6256  ...   6256   6256    6256\n",
              "7         4011     4011              4011  ...   4011   4011    4011\n",
              "0         3910     3910              3910  ...   3910   3910    3910\n",
              "6         2482     2482              2482  ...   2482   2482    2482\n",
              "1         2350     2350              2350  ...   2350   2350    2350\n",
              "5         1321     1321              1321  ...   1321   1321    1321\n",
              "2         1243     1243              1243  ...   1243   1243    1243\n",
              "4          854      854               854  ...    854    854     854\n",
              "3          831      831               831  ...    831    831     831\n",
              "\n",
              "[24 rows x 11 columns]"
            ]
          },
          "metadata": {
            "tags": []
          },
          "execution_count": 46
        }
      ]
    },
    {
      "cell_type": "code",
      "metadata": {
        "colab": {
          "base_uri": "https://localhost:8080/",
          "height": 265
        },
        "id": "MNAbfrrigYTD",
        "outputId": "ea5f27e3-3ba5-4388-bd0c-b63c00cf6408"
      },
      "source": [
        "hourss=[x for x, df in all.groupby(\"hour\")]\n",
        "plt.plot(hourss,hours[\"Quantity Ordered\"])\n",
        "plt.xticks(hourss)\n",
        "plt.grid()\n",
        "plt.show()"
      ],
      "execution_count": null,
      "outputs": [
        {
          "output_type": "display_data",
          "data": {
            "image/png": "[encoded data removed]",
            "text/plain": [
              "<Figure size 432x288 with 1 Axes>"
            ]
          },
          "metadata": {
            "tags": [],
            "needs_background": "light"
          }
        }
      ]
    },
    {
      "cell_type": "markdown",
      "metadata": {
        "id": "YpbDfPmCsZeU"
      },
      "source": [
        "## **what products are most often sold together**"
      ]
    },
    {
      "cell_type": "code",
      "metadata": {
        "colab": {
          "base_uri": "https://localhost:8080/",
          "height": 306
        },
        "id": "1xjGLRu9sc9U",
        "outputId": "d647e40f-9512-4fc2-937f-70189d43ada5"
      },
      "source": [
        "df=all[all[\"Order ID\"].duplicated(keep=False)]\n",
        "df[\"grouped\"]=df.groupby('Order ID')['Product'].transform(lambda x:'.'.join(x))\n",
        "df=df[[\"Order ID\",\"grouped\"]].drop_duplicates()\n",
        "df.head()"
      ],
      "execution_count": null,
      "outputs": [
        {
          "output_type": "stream",
          "text": [
            "/usr/local/lib/python3.7/dist-packages/ipykernel_launcher.py:2: SettingWithCopyWarning: \n",
            "A value is trying to be set on a copy of a slice from a DataFrame.\n",
            "Try using .loc[row_indexer,col_indexer] = value instead\n",
            "\n",
            "See the caveats in the documentation: https://pandas.pydata.org/pandas-docs/stable/user_guide/indexing.html#returning-a-view-versus-a-copy\n",
            "  \n"
          ],
          "name": "stderr"
        },
        {
          "output_type": "execute_result",
          "data": {
            "text/html": [
              "<div>\n",
              "<style scoped>\n",
              "    .dataframe tbody tr th:only-of-type {\n",
              "        vertical-align: middle;\n",
              "    }\n",
              "\n",
              "    .dataframe tbody tr th {\n",
              "        vertical-align: top;\n",
              "    }\n",
              "\n",
              "    .dataframe thead th {\n",
              "        text-align: right;\n",
              "    }\n",
              "</style>\n",
              "<table border=\"1\" class=\"dataframe\">\n",
              "  <thead>\n",
              "    <tr style=\"text-align: right;\">\n",
              "      <th></th>\n",
              "      <th>Order ID</th>\n",
              "      <th>grouped</th>\n",
              "    </tr>\n",
              "  </thead>\n",
              "  <tbody>\n",
              "    <tr>\n",
              "      <th>118</th>\n",
              "      <td>223028</td>\n",
              "      <td>Vareebadd Phone.USB-C Charging Cable.Wired Hea...</td>\n",
              "    </tr>\n",
              "    <tr>\n",
              "      <th>140</th>\n",
              "      <td>223048</td>\n",
              "      <td>Vareebadd Phone.USB-C Charging Cable</td>\n",
              "    </tr>\n",
              "    <tr>\n",
              "      <th>188</th>\n",
              "      <td>223095</td>\n",
              "      <td>Apple Airpods Headphones.AA Batteries (4-pack)</td>\n",
              "    </tr>\n",
              "    <tr>\n",
              "      <th>201</th>\n",
              "      <td>223106</td>\n",
              "      <td>Wired Headphones.Vareebadd Phone</td>\n",
              "    </tr>\n",
              "    <tr>\n",
              "      <th>213</th>\n",
              "      <td>223117</td>\n",
              "      <td>Google Phone.USB-C Charging Cable</td>\n",
              "    </tr>\n",
              "  </tbody>\n",
              "</table>\n",
              "</div>"
            ],
            "text/plain": [
              "    Order ID                                            grouped\n",
              "118   223028  Vareebadd Phone.USB-C Charging Cable.Wired Hea...\n",
              "140   223048               Vareebadd Phone.USB-C Charging Cable\n",
              "188   223095     Apple Airpods Headphones.AA Batteries (4-pack)\n",
              "201   223106                   Wired Headphones.Vareebadd Phone\n",
              "213   223117                  Google Phone.USB-C Charging Cable"
            ]
          },
          "metadata": {
            "tags": []
          },
          "execution_count": 65
        }
      ]
    },
    {
      "cell_type": "code",
      "metadata": {
        "id": "NcX0adObxCjv"
      },
      "source": [
        "# code yet to be written fr most common pairs, will do later"
      ],
      "execution_count": null,
      "outputs": []
    },
    {
      "cell_type": "markdown",
      "metadata": {
        "id": "NvZMwKw5xTGT"
      },
      "source": [
        "## **what product sold the most? and why do you think it sold the most?**"
      ]
    },
    {
      "cell_type": "code",
      "metadata": {
        "colab": {
          "base_uri": "https://localhost:8080/",
          "height": 377
        },
        "id": "kMhBuY_GxVC7",
        "outputId": "df7843af-08a1-4241-c7db-d072ff6b288a"
      },
      "source": [
        "product_group=all.groupby(\"Product\").count()\n",
        "products=[x for x, df in all.groupby(\"Product\")]\n",
        "plt.plot(products,product_group[\"Quantity Ordered\"])\n",
        "plt.xticks(products,rotation=\"vertical\",size=8)\n",
        "plt.grid()\n",
        "plt.show()"
      ],
      "execution_count": null,
      "outputs": [
        {
          "output_type": "display_data",
          "data": {
            "image/png": "[encoded data removed]",
            "text/plain": [
              "<Figure size 432x288 with 1 Axes>"
            ]
          },
          "metadata": {
            "tags": [],
            "needs_background": "light"
          }
        }
      ]
    }
  ]
}